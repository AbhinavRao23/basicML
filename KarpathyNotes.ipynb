{
 "cells": [
  {
   "cell_type": "markdown",
   "id": "2ac100d8",
   "metadata": {},
   "source": [
    "# Micrograd and Neural Networks\n",
    "\n",
    "https://www.youtube.com/watch?v=VMj-3S1tku0 <br>\n",
    "https://github.com/karpathy/micrograd"
   ]
  },
  {
   "cell_type": "markdown",
   "id": "15ae0c3a",
   "metadata": {},
   "source": [
    " Study Topological\n",
    "  "
   ]
  },
  {
   "cell_type": "code",
   "execution_count": null,
   "id": "0a4bf613",
   "metadata": {},
   "outputs": [],
   "source": []
  }
 ],
 "metadata": {
  "kernelspec": {
   "display_name": "Python 3 (ipykernel)",
   "language": "python",
   "name": "python3"
  },
  "language_info": {
   "codemirror_mode": {
    "name": "ipython",
    "version": 3
   },
   "file_extension": ".py",
   "mimetype": "text/x-python",
   "name": "python",
   "nbconvert_exporter": "python",
   "pygments_lexer": "ipython3",
   "version": "3.10.8"
  }
 },
 "nbformat": 4,
 "nbformat_minor": 5
}
