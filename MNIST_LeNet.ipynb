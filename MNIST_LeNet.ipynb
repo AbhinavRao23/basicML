{
  "nbformat": 4,
  "nbformat_minor": 0,
  "metadata": {
    "colab": {
      "name": "MNIST LeNet",
      "provenance": [],
      "authorship_tag": "ABX9TyOVtQw3N+Rm+MwLNXARUHmy",
      "include_colab_link": true
    },
    "kernelspec": {
      "name": "python3",
      "display_name": "Python 3"
    },
    "accelerator": "GPU"
  },
  "cells": [
    {
      "cell_type": "markdown",
      "metadata": {
        "id": "view-in-github",
        "colab_type": "text"
      },
      "source": [
        "<a href=\"https://colab.research.google.com/github/AbhinavRao23/MNIST/blob/master/MNIST_LeNet.ipynb\" target=\"_parent\"><img src=\"https://colab.research.google.com/assets/colab-badge.svg\" alt=\"Open In Colab\"/></a>"
      ]
    },
    {
      "cell_type": "code",
      "metadata": {
        "id": "85PUoKZ9-QYE",
        "colab_type": "code",
        "colab": {}
      },
      "source": [
        "#import for ANN\n",
        "import numpy as np\n",
        "import matplotlib.pyplot as plt\n",
        "import tensorflow\n",
        "from tensorflow.keras.datasets import mnist\n",
        "from tensorflow.keras.models import Sequential\n",
        "from tensorflow.keras.layers import Dense\n",
        "from tensorflow.keras.optimizers import Adam\n",
        "from tensorflow.keras.utils import to_categorical\n",
        "import random\n",
        "\n",
        "#import for CNN\n",
        "from tensorflow.keras.layers import Dropout\n",
        "from tensorflow.keras.layers import Flatten\n",
        "from tensorflow.keras.layers import Conv2D\n",
        "from tensorflow.keras.layers import MaxPooling2D\n",
        "\n",
        "#import for understanding model\n",
        "from tensorflow.keras.models import Model\n",
        "\n",
        "#Seeding shufflers\n",
        "np.random.seed(0)"
      ],
      "execution_count": 1,
      "outputs": []
    },
    {
      "cell_type": "code",
      "metadata": {
        "id": "3pRoDh4MpAH6",
        "colab_type": "code",
        "colab": {
          "base_uri": "https://localhost:8080/",
          "height": 51
        },
        "outputId": "49939dda-fc99-4c60-d96c-44ffdae87fe1"
      },
      "source": [
        "(X_train,y_train),(X_test,y_test) = mnist.load_data()"
      ],
      "execution_count": 2,
      "outputs": [
        {
          "output_type": "stream",
          "text": [
            "Downloading data from https://storage.googleapis.com/tensorflow/tf-keras-datasets/mnist.npz\n",
            "11493376/11490434 [==============================] - 0s 0us/step\n"
          ],
          "name": "stdout"
        }
      ]
    },
    {
      "cell_type": "code",
      "metadata": {
        "id": "iVs5wnV75Z6O",
        "colab_type": "code",
        "colab": {}
      },
      "source": [
        "#Reshaping samples ad labels\n",
        "X_train = X_train.reshape(60000,28,28,1)\n",
        "X_test = X_test.reshape(10000,28,28,1)\n",
        "\n",
        "y_train = to_categorical(y_train,10)\n",
        "y_test = to_categorical(y_test,10)"
      ],
      "execution_count": 3,
      "outputs": []
    },
    {
      "cell_type": "code",
      "metadata": {
        "id": "udznUOLm5bJI",
        "colab_type": "code",
        "colab": {}
      },
      "source": [
        "def leNet_model():\n",
        "    model = Sequential()\n",
        "    model.add(Conv2D(30, (5,5), input_shape = (28,28,1), activation = 'relu'))\n",
        "    model.add(MaxPooling2D(pool_size = (2,2)))\n",
        "    \n",
        "    model.add(Conv2D(15, (3,3), activation = 'relu'))\n",
        "    model.add(MaxPooling2D(pool_size = (2,2)))\n",
        "    \n",
        "    model.add(Flatten())\n",
        "    model.add(Dense(500, activation = 'relu'))\n",
        "    model.add(Dropout(0.5))\n",
        "    model.add(Dense(10, activation = 'softmax'))\n",
        "    \n",
        "    model.compile(Adam(lr = 0.01), loss = 'categorical_crossentropy', metrics = ['accuracy'])\n",
        "    return model"
      ],
      "execution_count": 4,
      "outputs": []
    },
    {
      "cell_type": "code",
      "metadata": {
        "id": "iuEKaENq5dUK",
        "colab_type": "code",
        "colab": {}
      },
      "source": [
        "model = leNet_model()"
      ],
      "execution_count": 5,
      "outputs": []
    },
    {
      "cell_type": "code",
      "metadata": {
        "id": "Ot9Z1aTP5fKa",
        "colab_type": "code",
        "colab": {
          "base_uri": "https://localhost:8080/",
          "height": 391
        },
        "outputId": "598f3fea-9763-42be-b591-3cbd826d4e10"
      },
      "source": [
        "%%time\n",
        "history = model.fit(X_train, y_train, epochs = 10, validation_split = 0.1, batch_size = 400, verbose = 1, shuffle =1)"
      ],
      "execution_count": 6,
      "outputs": [
        {
          "output_type": "stream",
          "text": [
            "Epoch 1/10\n",
            "135/135 [==============================] - 1s 7ms/step - loss: 2.3360 - accuracy: 0.6147 - val_loss: 0.3717 - val_accuracy: 0.8827\n",
            "Epoch 2/10\n",
            "135/135 [==============================] - 1s 5ms/step - loss: 0.4223 - accuracy: 0.8749 - val_loss: 0.1959 - val_accuracy: 0.9427\n",
            "Epoch 3/10\n",
            "135/135 [==============================] - 1s 5ms/step - loss: 0.3491 - accuracy: 0.8975 - val_loss: 0.1696 - val_accuracy: 0.9465\n",
            "Epoch 4/10\n",
            "135/135 [==============================] - 1s 5ms/step - loss: 0.3024 - accuracy: 0.9108 - val_loss: 0.1606 - val_accuracy: 0.9482\n",
            "Epoch 5/10\n",
            "135/135 [==============================] - 1s 5ms/step - loss: 0.2818 - accuracy: 0.9167 - val_loss: 0.1572 - val_accuracy: 0.9513\n",
            "Epoch 6/10\n",
            "135/135 [==============================] - 1s 5ms/step - loss: 0.2604 - accuracy: 0.9230 - val_loss: 0.1330 - val_accuracy: 0.9597\n",
            "Epoch 7/10\n",
            "135/135 [==============================] - 1s 5ms/step - loss: 0.2301 - accuracy: 0.9311 - val_loss: 0.1413 - val_accuracy: 0.9597\n",
            "Epoch 8/10\n",
            "135/135 [==============================] - 1s 5ms/step - loss: 0.2167 - accuracy: 0.9348 - val_loss: 0.1097 - val_accuracy: 0.9670\n",
            "Epoch 9/10\n",
            "135/135 [==============================] - 1s 5ms/step - loss: 0.1961 - accuracy: 0.9414 - val_loss: 0.1154 - val_accuracy: 0.9650\n",
            "Epoch 10/10\n",
            "135/135 [==============================] - 1s 5ms/step - loss: 0.2036 - accuracy: 0.9396 - val_loss: 0.1180 - val_accuracy: 0.9650\n",
            "CPU times: user 8.18 s, sys: 2.63 s, total: 10.8 s\n",
            "Wall time: 14.8 s\n"
          ],
          "name": "stdout"
        }
      ]
    },
    {
      "cell_type": "code",
      "metadata": {
        "id": "i5UET-rB5hrM",
        "colab_type": "code",
        "colab": {
          "base_uri": "https://localhost:8080/",
          "height": 312
        },
        "outputId": "4561c317-cdbc-401d-9f30-5fc599c1c31e"
      },
      "source": [
        "plt.plot(history.history['loss'])\n",
        "plt.plot(history.history['val_loss'])\n",
        "plt.legend(['loss','validation loss'])\n",
        "plt.xlabel('epoch')\n",
        "plt.title('Loss')"
      ],
      "execution_count": 7,
      "outputs": [
        {
          "output_type": "execute_result",
          "data": {
            "text/plain": [
              "Text(0.5, 1.0, 'Loss')"
            ]
          },
          "metadata": {
            "tags": []
          },
          "execution_count": 7
        },
        {
          "output_type": "display_data",
          "data": {
            "image/png": "[encoded data removed]",
            "text/plain": [
              "<Figure size 432x288 with 1 Axes>"
            ]
          },
          "metadata": {
            "tags": [],
            "needs_background": "light"
          }
        }
      ]
    },
    {
      "cell_type": "code",
      "metadata": {
        "id": "EhYS-HN68Fn2",
        "colab_type": "code",
        "colab": {
          "base_uri": "https://localhost:8080/",
          "height": 312
        },
        "outputId": "b56fab19-13e4-4a23-d3f3-47d047c142f5"
      },
      "source": [
        "plt.plot(history.history['accuracy'])\n",
        "plt.plot(history.history['val_accuracy'])\n",
        "plt.legend(['accuracy','validation accuracy'])\n",
        "plt.xlabel('epoch')\n",
        "plt.title('accuracy')"
      ],
      "execution_count": 8,
      "outputs": [
        {
          "output_type": "execute_result",
          "data": {
            "text/plain": [
              "Text(0.5, 1.0, 'accuracy')"
            ]
          },
          "metadata": {
            "tags": []
          },
          "execution_count": 8
        },
        {
          "output_type": "display_data",
          "data": {
            "image/png": "[encoded data removed]",
            "text/plain": [
              "<Figure size 432x288 with 1 Axes>"
            ]
          },
          "metadata": {
            "tags": [],
            "needs_background": "light"
          }
        }
      ]
    },
    {
      "cell_type": "code",
      "metadata": {
        "id": "T4F9CjQH8I2I",
        "colab_type": "code",
        "colab": {
          "base_uri": "https://localhost:8080/",
          "height": 51
        },
        "outputId": "171503b6-5e94-4a60-91e3-a1947d992770"
      },
      "source": [
        "score = model.evaluate(X_test, y_test, verbose=0)\n",
        " \n",
        "print('Test score:', score[0])\n",
        "print('Test accuracy:', score[1])"
      ],
      "execution_count": 9,
      "outputs": [
        {
          "output_type": "stream",
          "text": [
            "Test score: 0.12749099731445312\n",
            "Test accuracy: 0.9634000062942505\n"
          ],
          "name": "stdout"
        }
      ]
    },
    {
      "cell_type": "code",
      "metadata": {
        "id": "TIynxDJH-w13",
        "colab_type": "code",
        "colab": {}
      },
      "source": [
        "import requests\n",
        "from PIL import Image\n",
        "import cv2"
      ],
      "execution_count": 10,
      "outputs": []
    },
    {
      "cell_type": "code",
      "metadata": {
        "id": "1gSVxlp5CYbC",
        "colab_type": "code",
        "colab": {
          "base_uri": "https://localhost:8080/",
          "height": 282
        },
        "outputId": "0b13622f-78b9-4719-8ac9-399824b08711"
      },
      "source": [
        "url = 'https://st.depositphotos.com/2899123/3753/v/950/depositphotos_37531893-stock-illustration-3-black-handwritten-number-on.jpg'\n",
        "\n",
        "r = requests.get(url, stream = True)\n",
        "img = Image.open(r.raw)\n",
        "plt.imshow(img, cmap=plt.get_cmap('gray'))\n",
        "img = np.asarray(img)\n",
        "img = cv2.resize(img,(28,28))\n",
        "img = cv2.cvtColor(img, cv2.COLOR_BGR2GRAY)\n",
        "img = cv2.bitwise_not(img)\n",
        "plt.imshow(img, cmap=plt.get_cmap('gray'))"
      ],
      "execution_count": 11,
      "outputs": [
        {
          "output_type": "execute_result",
          "data": {
            "text/plain": [
              "<matplotlib.image.AxesImage at 0x7ff1200ea668>"
            ]
          },
          "metadata": {
            "tags": []
          },
          "execution_count": 11
        },
        {
          "output_type": "display_data",
          "data": {
            "image/png": "[encoded data removed]",
            "text/plain": [
              "<Figure size 432x288 with 1 Axes>"
            ]
          },
          "metadata": {
            "tags": [],
            "needs_background": "light"
          }
        }
      ]
    },
    {
      "cell_type": "code",
      "metadata": {
        "id": "wFJ-rDBgCacF",
        "colab_type": "code",
        "colab": {
          "base_uri": "https://localhost:8080/",
          "height": 105
        },
        "outputId": "0b9c1028-b0bb-4517-f628-6a2bea33a6b4"
      },
      "source": [
        "img = img.reshape(1,28,28,1)\n",
        "print(model.predict_classes(img))"
      ],
      "execution_count": 12,
      "outputs": [
        {
          "output_type": "stream",
          "text": [
            "WARNING:tensorflow:From <ipython-input-12-3a5b8c4edbc7>:2: Sequential.predict_classes (from tensorflow.python.keras.engine.sequential) is deprecated and will be removed after 2021-01-01.\n",
            "Instructions for updating:\n",
            "Please use instead:* `np.argmax(model.predict(x), axis=-1)`,   if your model does multi-class classification   (e.g. if it uses a `softmax` last-layer activation).* `(model.predict(x) > 0.5).astype(\"int32\")`,   if your model does binary classification   (e.g. if it uses a `sigmoid` last-layer activation).\n",
            "[3]\n"
          ],
          "name": "stdout"
        }
      ]
    },
    {
      "cell_type": "code",
      "metadata": {
        "id": "Lwq4jP7JZh49",
        "colab_type": "code",
        "colab": {}
      },
      "source": [
        "layer1 = Model(inputs = model.layers[0].input, outputs = model.layers[0].output)\n",
        "layer2 = Model(inputs = model.layers[0].input, outputs = model.layers[2].output)"
      ],
      "execution_count": 13,
      "outputs": []
    },
    {
      "cell_type": "code",
      "metadata": {
        "id": "6lM3bM80fZen",
        "colab_type": "code",
        "colab": {}
      },
      "source": [
        "visual_layer_1, visual_layer_2 = layer1(img),layer2(img)"
      ],
      "execution_count": 14,
      "outputs": []
    },
    {
      "cell_type": "code",
      "metadata": {
        "id": "X73XIsacfcAv",
        "colab_type": "code",
        "colab": {
          "base_uri": "https://localhost:8080/",
          "height": 357
        },
        "outputId": "69ed5025-8140-414e-9e5d-5ed7b1104af2"
      },
      "source": [
        "plt.figure(figsize=(10, 6))\n",
        "for i in range(30):\n",
        "    plt.subplot(6, 5, i+1)\n",
        "    plt.imshow(visual_layer_1[0, :, :, i], cmap=plt.get_cmap('jet'))\n",
        "    plt.axis('off')"
      ],
      "execution_count": 15,
      "outputs": [
        {
          "output_type": "display_data",
          "data": {
            "image/png": "[encoded data removed]",
            "text/plain": [
              "<Figure size 720x432 with 30 Axes>"
            ]
          },
          "metadata": {
            "tags": [],
            "needs_background": "light"
          }
        }
      ]
    },
    {
      "cell_type": "code",
      "metadata": {
        "id": "6eM4vn72f-2U",
        "colab_type": "code",
        "colab": {
          "base_uri": "https://localhost:8080/",
          "height": 357
        },
        "outputId": "bb067faa-5a2f-4b89-9a35-532717411dde"
      },
      "source": [
        "plt.figure(figsize=(10, 6))\n",
        "for i in range(15):\n",
        "    plt.subplot(3, 5, i+1)\n",
        "    plt.imshow(visual_layer_2[0, :, :, i], cmap=plt.get_cmap('jet'))\n",
        "    plt.axis('off')"
      ],
      "execution_count": 16,
      "outputs": [
        {
          "output_type": "display_data",
          "data": {
            "image/png": "[encoded data removed]",
            "text/plain": [
              "<Figure size 720x432 with 15 Axes>"
            ]
          },
          "metadata": {
            "tags": [],
            "needs_background": "light"
          }
        }
      ]
    },
    {
      "cell_type": "code",
      "metadata": {
        "id": "277_CFgHkh1q",
        "colab_type": "code",
        "colab": {}
      },
      "source": [
        ""
      ],
      "execution_count": 16,
      "outputs": []
    }
  ]
}