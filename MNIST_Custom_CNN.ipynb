{
  "nbformat": 4,
  "nbformat_minor": 0,
  "metadata": {
    "colab": {
      "name": "MNIST Custom CNN",
      "provenance": [],
      "collapsed_sections": [],
      "authorship_tag": "ABX9TyOcLR6MB6kyeoUljt2F5O/b",
      "include_colab_link": true
    },
    "kernelspec": {
      "name": "python3",
      "display_name": "Python 3"
    },
    "accelerator": "GPU"
  },
  "cells": [
    {
      "cell_type": "markdown",
      "metadata": {
        "id": "view-in-github",
        "colab_type": "text"
      },
      "source": [
        "<a href=\"https://colab.research.google.com/github/AbhinavRao23/MNIST/blob/master/MNIST_Custom_CNN.ipynb\" target=\"_parent\"><img src=\"https://colab.research.google.com/assets/colab-badge.svg\" alt=\"Open In Colab\"/></a>"
      ]
    },
    {
      "cell_type": "code",
      "metadata": {
        "id": "T2vRQsRuWX9d"
      },
      "source": [
        "!nvidia-smi #show the allocated GPU"
      ],
      "execution_count": null,
      "outputs": []
    },
    {
      "cell_type": "code",
      "metadata": {
        "id": "qEuSZO3SpnNO"
      },
      "source": [
        "#import for ANN\n",
        "import numpy as np\n",
        "import matplotlib.pyplot as plt\n",
        "import tensorflow\n",
        "from tensorflow.keras.datasets import mnist\n",
        "from tensorflow.keras.models import Sequential\n",
        "from tensorflow.keras.layers import Dense\n",
        "from tensorflow.keras.optimizers import Adam\n",
        "from tensorflow.keras.utils import to_categorical\n",
        "import random\n",
        "\n",
        "#import for CNN\n",
        "from tensorflow.keras.layers import Dropout\n",
        "from tensorflow.keras.layers import Flatten\n",
        "from tensorflow.keras.layers import Conv2D\n",
        "from tensorflow.keras.layers import MaxPooling2D\n",
        "from tensorflow.keras.layers import BatchNormalization\n",
        "#Data augmentation\n",
        "from keras.preprocessing.image import ImageDataGenerator\n",
        "#import for understanding model\n",
        "from tensorflow.keras.models import Model"
      ],
      "execution_count": null,
      "outputs": []
    },
    {
      "cell_type": "code",
      "metadata": {
        "id": "qjg2hJ3jpxfb",
        "outputId": "970fa99e-f6ee-4cbe-d248-5948d1f23b5b",
        "colab": {
          "base_uri": "https://localhost:8080/",
          "height": 51
        }
      },
      "source": [
        "(X_train,y_train),(X_test,y_test) = mnist.load_data()\n",
        "#Reshaping samples ad labels\n",
        "X_train = X_train.reshape(-1,28,28,1)\n",
        "X_test = X_test.reshape(-1,28,28,1)\n",
        "\n",
        "X_train = X_train/255\n",
        "X_test = X_test/255\n",
        "\n",
        "y_train = to_categorical(y_train,10)\n",
        "y_test = to_categorical(y_test,10)"
      ],
      "execution_count": null,
      "outputs": [
        {
          "output_type": "stream",
          "text": [
            "Downloading data from https://storage.googleapis.com/tensorflow/tf-keras-datasets/mnist.npz\n",
            "11493376/11490434 [==============================] - 0s 0us/step\n"
          ],
          "name": "stdout"
        }
      ]
    },
    {
      "cell_type": "code",
      "metadata": {
        "id": "kLmMsT4yKVDH"
      },
      "source": [
        "datagen = ImageDataGenerator(\n",
        "        featurewise_center=False,  # set input mean to 0 over the dataset\n",
        "        samplewise_center=False,  # set each sample mean to 0\n",
        "        featurewise_std_normalization=False,  # divide inputs by std of the dataset\n",
        "        samplewise_std_normalization=False,  # divide each input by its std\n",
        "        zca_whitening=False,  # apply ZCA whitening\n",
        "        rotation_range=10,  # randomly rotate images in the range (degrees, 0 to 180)\n",
        "        zoom_range = 0.1, # Randomly zoom image \n",
        "        width_shift_range=0.1,  # randomly shift images horizontally (fraction of total width)\n",
        "        height_shift_range=0.1,  # randomly shift images vertically (fraction of total height)\n",
        "        horizontal_flip=False,  # randomly flip images\n",
        "        vertical_flip=False)"
      ],
      "execution_count": null,
      "outputs": []
    },
    {
      "cell_type": "code",
      "metadata": {
        "id": "XUJ2fSKJLFib"
      },
      "source": [
        "epochs = 50\n",
        "batch_size = 64\n",
        "train_gen = datagen.flow(X_train, y_train, batch_size=batch_size)"
      ],
      "execution_count": null,
      "outputs": []
    },
    {
      "cell_type": "code",
      "metadata": {
        "id": "4frc_aXPEdEV",
        "outputId": "a085489c-1887-43fc-ee7a-4397a8a19046",
        "colab": {
          "base_uri": "https://localhost:8080/",
          "height": 164
        }
      },
      "source": [
        ""
      ],
      "execution_count": null,
      "outputs": [
        {
          "output_type": "error",
          "ename": "AttributeError",
          "evalue": "ignored",
          "traceback": [
            "\u001b[0;31m---------------------------------------------------------------------------\u001b[0m",
            "\u001b[0;31mAttributeError\u001b[0m                            Traceback (most recent call last)",
            "\u001b[0;32m<ipython-input-6-534aa22f6e9c>\u001b[0m in \u001b[0;36m<module>\u001b[0;34m()\u001b[0m\n\u001b[0;32m----> 1\u001b[0;31m \u001b[0mtrain_gen\u001b[0m\u001b[0;34m.\u001b[0m\u001b[0mshape\u001b[0m\u001b[0;34m\u001b[0m\u001b[0;34m\u001b[0m\u001b[0m\n\u001b[0m",
            "\u001b[0;31mAttributeError\u001b[0m: 'NumpyArrayIterator' object has no attribute 'shape'"
          ]
        }
      ]
    },
    {
      "cell_type": "code",
      "metadata": {
        "id": "7Hh_n-Nqp1hk"
      },
      "source": [
        "model = Sequential()\n",
        "model.add(Conv2D(32, (5,5), input_shape = (28,28,1), activation = 'relu'))\n",
        "model.add(MaxPooling2D(pool_size = (2,2)))\n",
        "model.add(Conv2D(16, (3,3), activation = 'relu'))\n",
        "model.add(MaxPooling2D(pool_size = (2,2)))\n",
        "model.add(Flatten())\n",
        "model.add(Dense(500, activation = 'relu'))\n",
        "model.add(Dropout(0.3))\n",
        "model.add(Dense(10, activation = 'softmax'))\n",
        "model.compile(Adam(lr = 0.01), loss = 'categorical_crossentropy', metrics = ['accuracy'])"
      ],
      "execution_count": null,
      "outputs": []
    },
    {
      "cell_type": "code",
      "metadata": {
        "id": "dcY_2Dkcp5IG",
        "outputId": "e70512e6-e49d-47ba-e288-cc5c7050ac08",
        "colab": {
          "base_uri": "https://localhost:8080/",
          "height": 391
        }
      },
      "source": [
        "%%time\n",
        "h = model.fit(X_train, y_train, epochs = 10, validation_split = 0.1, batch_size = 400, verbose = 1, shuffle =1)"
      ],
      "execution_count": null,
      "outputs": [
        {
          "output_type": "stream",
          "text": [
            "Epoch 1/10\n",
            "135/135 [==============================] - 1s 7ms/step - loss: 1.7175 - accuracy: 0.6748 - val_loss: 0.3180 - val_accuracy: 0.9057\n",
            "Epoch 2/10\n",
            "135/135 [==============================] - 1s 6ms/step - loss: 0.3316 - accuracy: 0.9051 - val_loss: 0.1960 - val_accuracy: 0.9373\n",
            "Epoch 3/10\n",
            "135/135 [==============================] - 1s 6ms/step - loss: 0.2572 - accuracy: 0.9246 - val_loss: 0.2015 - val_accuracy: 0.9377\n",
            "Epoch 4/10\n",
            "135/135 [==============================] - 1s 6ms/step - loss: 0.2321 - accuracy: 0.9323 - val_loss: 0.1455 - val_accuracy: 0.9565\n",
            "Epoch 5/10\n",
            "135/135 [==============================] - 1s 6ms/step - loss: 0.2188 - accuracy: 0.9350 - val_loss: 0.1421 - val_accuracy: 0.9552\n",
            "Epoch 6/10\n",
            "135/135 [==============================] - 1s 6ms/step - loss: 0.2064 - accuracy: 0.9407 - val_loss: 0.1323 - val_accuracy: 0.9592\n",
            "Epoch 7/10\n",
            "135/135 [==============================] - 1s 6ms/step - loss: 0.1888 - accuracy: 0.9448 - val_loss: 0.1360 - val_accuracy: 0.9597\n",
            "Epoch 8/10\n",
            "135/135 [==============================] - 1s 6ms/step - loss: 0.1938 - accuracy: 0.9420 - val_loss: 0.1367 - val_accuracy: 0.9588\n",
            "Epoch 9/10\n",
            "135/135 [==============================] - 1s 6ms/step - loss: 0.1944 - accuracy: 0.9431 - val_loss: 0.1186 - val_accuracy: 0.9638\n",
            "Epoch 10/10\n",
            "135/135 [==============================] - 1s 6ms/step - loss: 0.1905 - accuracy: 0.9438 - val_loss: 0.1308 - val_accuracy: 0.9598\n",
            "CPU times: user 6.94 s, sys: 2.06 s, total: 9 s\n",
            "Wall time: 8.26 s\n"
          ],
          "name": "stdout"
        }
      ]
    },
    {
      "cell_type": "code",
      "metadata": {
        "id": "WedjW_o6qCCm",
        "outputId": "41326abd-5c5b-430a-a898-0979e5930096",
        "colab": {
          "base_uri": "https://localhost:8080/",
          "height": 312
        }
      },
      "source": [
        "plt.plot(h.history['accuracy'])\n",
        "plt.plot(h.history['val_accuracy'])\n",
        "plt.legend(['accuracy','validation accuracy'])\n",
        "plt.xlabel('epoch')\n",
        "plt.title('accuracy')"
      ],
      "execution_count": null,
      "outputs": [
        {
          "output_type": "execute_result",
          "data": {
            "text/plain": [
              "Text(0.5, 1.0, 'accuracy')"
            ]
          },
          "metadata": {
            "tags": []
          },
          "execution_count": 47
        },
        {
          "output_type": "display_data",
          "data": {
            "image/png": "[encoded data removed]",
            "text/plain": [
              "<Figure size 432x288 with 1 Axes>"
            ]
          },
          "metadata": {
            "tags": [],
            "needs_background": "light"
          }
        }
      ]
    },
    {
      "cell_type": "code",
      "metadata": {
        "id": "W-2bHr5dqExh",
        "outputId": "61943b9b-6f82-47a9-81b6-27c2e6388bc0",
        "colab": {
          "base_uri": "https://localhost:8080/",
          "height": 34
        }
      },
      "source": [
        "score = model.evaluate(X_test, y_test, verbose=0)\n",
        "print(score[1])"
      ],
      "execution_count": null,
      "outputs": [
        {
          "output_type": "stream",
          "text": [
            "0.9592999815940857\n"
          ],
          "name": "stdout"
        }
      ]
    }
  ]
}