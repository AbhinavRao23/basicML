{
 "cells": [
  {
   "cell_type": "markdown",
   "id": "199d0e5a",
   "metadata": {},
   "source": [
    "# PyTorch Notes\n",
    "\n",
    "## Contents\n",
    "**1. Quickstart Guide**<br>\n",
    " - Quick implementation of a simple neural net.\n",
    " - Basic understanding of capabilites of PyTorch.\n",
    "\n",
    "\n",
    "**2. Introduction to PyTorch**<br>\n",
    " - Introduction to tensors, methods, forward and backward passes.\n",
    "\n",
    "\n",
    "**3. Overview of PyTorch Autograd Engine**<br>\n",
    " - High-level explaination of auto-grad process - computational graph and gradients.\n",
    "\n",
    "\n",
    "**4. How computational graphs are constructed in PyTorch**<br>\n",
    " - Reading list for under the hood python and C++ objects for working with computational graphs and autograd\n",
    "\n",
    "\n",
    "**5. Understanding Computational Graphs**<br>\n",
    " - Some additional information about computational graphs\n",
    " \n",
    "**6. Understanding Autograd: 5 Pytorch tensor functions**<br>\n",
    " - Most important 5 functions related to tensors\n",
    "\n",
    "**7. Miscellaneous Info**\n"
   ]
  },
  {
   "cell_type": "markdown",
   "id": "b26a70bd",
   "metadata": {},
   "source": [
    "## 1. Quickstart Guide\n",
    "\n",
    "Reference: https://pytorch.org/tutorials/beginner/basics/quickstart_tutorial.html"
   ]
  },
  {
   "cell_type": "code",
   "execution_count": 2,
   "id": "2feadd55",
   "metadata": {},
   "outputs": [],
   "source": [
    "import torch \n",
    "from torch import nn # all neural nets inherit the nn module for basic functionality\n",
    "from torch.utils.data import DataLoader # pytorch basic module for data is DataSet. Dataloader is a iterable over dataset, for auto-batching\n",
    "from torchvision import datasets # torchvision contains datasets for vision problems\n",
    "from torchvision.transforms import ToTensor # a function to convert vision problem data into tensors"
   ]
  },
  {
   "cell_type": "markdown",
   "id": "8093d200",
   "metadata": {},
   "source": [
    "### Dataset/loader"
   ]
  },
  {
   "cell_type": "code",
   "execution_count": 3,
   "id": "27f9f052",
   "metadata": {},
   "outputs": [
    {
     "name": "stdout",
     "output_type": "stream",
     "text": [
      "Downloading http://fashion-mnist.s3-website.eu-central-1.amazonaws.com/train-images-idx3-ubyte.gz\n",
      "Downloading http://fashion-mnist.s3-website.eu-central-1.amazonaws.com/train-images-idx3-ubyte.gz to data/FashionMNIST/raw/train-images-idx3-ubyte.gz\n"
     ]
    },
    {
     "name": "stderr",
     "output_type": "stream",
     "text": [
      "100%|██████████| 26421880/26421880 [00:01<00:00, 14047816.35it/s]\n"
     ]
    },
    {
     "name": "stdout",
     "output_type": "stream",
     "text": [
      "Extracting data/FashionMNIST/raw/train-images-idx3-ubyte.gz to data/FashionMNIST/raw\n",
      "\n",
      "Downloading http://fashion-mnist.s3-website.eu-central-1.amazonaws.com/train-labels-idx1-ubyte.gz\n",
      "Downloading http://fashion-mnist.s3-website.eu-central-1.amazonaws.com/train-labels-idx1-ubyte.gz to data/FashionMNIST/raw/train-labels-idx1-ubyte.gz\n"
     ]
    },
    {
     "name": "stderr",
     "output_type": "stream",
     "text": [
      "100%|██████████| 29515/29515 [00:00<00:00, 216360.32it/s]\n"
     ]
    },
    {
     "name": "stdout",
     "output_type": "stream",
     "text": [
      "Extracting data/FashionMNIST/raw/train-labels-idx1-ubyte.gz to data/FashionMNIST/raw\n",
      "\n",
      "Downloading http://fashion-mnist.s3-website.eu-central-1.amazonaws.com/t10k-images-idx3-ubyte.gz\n",
      "Downloading http://fashion-mnist.s3-website.eu-central-1.amazonaws.com/t10k-images-idx3-ubyte.gz to data/FashionMNIST/raw/t10k-images-idx3-ubyte.gz\n"
     ]
    },
    {
     "name": "stderr",
     "output_type": "stream",
     "text": [
      "100%|██████████| 4422102/4422102 [00:00<00:00, 4441916.55it/s]\n"
     ]
    },
    {
     "name": "stdout",
     "output_type": "stream",
     "text": [
      "Extracting data/FashionMNIST/raw/t10k-images-idx3-ubyte.gz to data/FashionMNIST/raw\n",
      "\n",
      "Downloading http://fashion-mnist.s3-website.eu-central-1.amazonaws.com/t10k-labels-idx1-ubyte.gz\n",
      "Downloading http://fashion-mnist.s3-website.eu-central-1.amazonaws.com/t10k-labels-idx1-ubyte.gz to data/FashionMNIST/raw/t10k-labels-idx1-ubyte.gz\n"
     ]
    },
    {
     "name": "stderr",
     "output_type": "stream",
     "text": [
      "100%|██████████| 5148/5148 [00:00<00:00, 5689664.56it/s]"
     ]
    },
    {
     "name": "stdout",
     "output_type": "stream",
     "text": [
      "Extracting data/FashionMNIST/raw/t10k-labels-idx1-ubyte.gz to data/FashionMNIST/raw\n",
      "\n"
     ]
    },
    {
     "name": "stderr",
     "output_type": "stream",
     "text": [
      "\n"
     ]
    }
   ],
   "source": [
    "# Download training data from open datasets.\n",
    "training_data = datasets.FashionMNIST(\n",
    "    root=\"data\",\n",
    "    train=True,\n",
    "    download=True,\n",
    "    transform=ToTensor(),\n",
    ")\n",
    "# from datasets - fashion dataset is queried\n",
    "# we take only training part by making train = True\n",
    "# downlaod and save it in true all while transforming into tensors (no scaling recentering done yet)\n",
    "\n",
    "# Download test data from open datasets.\n",
    "test_data = datasets.FashionMNIST(\n",
    "    root=\"data\",\n",
    "    train=False, #this gets you non-training data\n",
    "    download=True,\n",
    "    transform=ToTensor(),\n",
    ")"
   ]
  },
  {
   "cell_type": "code",
   "execution_count": 4,
   "id": "35ca02ed",
   "metadata": {},
   "outputs": [
    {
     "name": "stdout",
     "output_type": "stream",
     "text": [
      "Shape of X [N, C, H, W]: torch.Size([64, 1, 28, 28])\n",
      "Shape of y: torch.Size([64]) torch.int64\n"
     ]
    }
   ],
   "source": [
    "batch_size = 64\n",
    "\n",
    "# Create data loaders.\n",
    "train_dataloader = DataLoader(training_data, batch_size=batch_size) \n",
    "test_dataloader = DataLoader(test_data, batch_size=batch_size)\n",
    "# again, dataloaders are iterables over A Dataset. \n",
    "# Not a iterable of datasets.\n",
    "# They allow auto-batching and separte inpute and outputs just like datasets\n",
    "\n",
    "\n",
    "for X, y in test_dataloader: # dataloader is an iterable but not indexable\n",
    "    print(f\"Shape of X [N, C, H, W]: {X.shape}\") # C stands for channel. Always a standard in image data\n",
    "    print(f\"Shape of y: {y.shape} {y.dtype}\")\n",
    "    break"
   ]
  },
  {
   "cell_type": "code",
   "execution_count": 5,
   "id": "203c3d6a",
   "metadata": {},
   "outputs": [
    {
     "name": "stdout",
     "output_type": "stream",
     "text": [
      "Using mps device\n",
      "NeuralNetwork(\n",
      "  (flatten): Flatten(start_dim=1, end_dim=-1)\n",
      "  (linear_relu_stack): Sequential(\n",
      "    (0): Linear(in_features=784, out_features=512, bias=True)\n",
      "    (1): ReLU()\n",
      "    (2): Linear(in_features=512, out_features=512, bias=True)\n",
      "    (3): ReLU()\n",
      "    (4): Linear(in_features=512, out_features=10, bias=True)\n",
      "  )\n",
      ")\n"
     ]
    }
   ],
   "source": [
    "# Get cpu, gpu or mps device for training.\n",
    "device = (\n",
    "    \"cuda\" # didnt know python allows multple single line 'if elses'\n",
    "    if torch.cuda.is_available()\n",
    "    else \"mps\" # Multi-Process Service - Cuda alternative\n",
    "    if torch.backends.mps.is_available()\n",
    "    else \"cpu\"\n",
    ")\n",
    "print(f\"Using {device} device\")\n",
    "\n",
    "# Define model\n",
    "class NeuralNetwork(nn.Module): # inherits nn\n",
    "    def __init__(self): \n",
    "        super().__init__() # inherites the init of nn\n",
    "        self.flatten = nn.Flatten() #making flatten a object funciton doesnt actually do much\n",
    "        # but nn.flatten unlike torch.flatten flattens AFTER the first dim ('start_dim')\n",
    "        # the first dimension is usually batch dim, which we dont want to flatten\n",
    "        # 5 x 3 x 3 x 1 --> 5 batches of 3x3x1 data. Flatten only the 3x3x1 part\n",
    "        \n",
    "        \n",
    "        self.linear_relu_stack = nn.Sequential(#defining model\n",
    "            nn.Linear(28*28, 512),#by default all params are requires_grad=True\n",
    "            nn.ReLU(),\n",
    "            nn.Linear(512, 512),\n",
    "            nn.ReLU(),\n",
    "            nn.Linear(512, 10)\n",
    "        )\n",
    "\n",
    "    def forward(self, x):\n",
    "        x = self.flatten(x)# we are using nn.flatten, probably could use nn.flattend directly here without affecting anything\n",
    "        logits = self.linear_relu_stack(x)\n",
    "        return logits\n",
    "\n",
    "model = NeuralNetwork().to(device) # model is in device. First thing in device\n",
    "print(model)"
   ]
  },
  {
   "cell_type": "code",
   "execution_count": 6,
   "id": "ded635ec",
   "metadata": {},
   "outputs": [],
   "source": [
    "loss_fn = nn.CrossEntropyLoss()#loss function here is an instantiation of cross entropy loss\n",
    "\n",
    "\n",
    "optimizer = torch.optim.SGD(model.parameters(), lr=1e-3)\n",
    "# unlike loss optimizer needs to know about your model to be defined\n",
    "# why?\n",
    "# optimizer needs to know all the params it is going to update. \n",
    "# it looks at the model and considers each weight with requires_grad = True\n",
    "# each tensor with requiresgrad in pytorch has a grad associated in its definition\n",
    "# optimizer goes and updates this grad"
   ]
  },
  {
   "cell_type": "code",
   "execution_count": 7,
   "id": "c2f92df8",
   "metadata": {},
   "outputs": [],
   "source": [
    "def train(dataloader, model, loss_fn, optimizer):\n",
    "    \n",
    "    size = len(dataloader.dataset) # Total size of dataset being used\n",
    "    model.train() # When a model is being trained it behaves diffrenetly than when it is being evaluated\n",
    "    # how? Most importantly gradients not being updated\n",
    "    # Another, dropout for example. gradient updates etc are all turned on for training mode\n",
    "    # remember your train() should be wrapped insde a funciton so its called only when u are actually training\n",
    "    \n",
    "    for batch, (X, y) in enumerate(dataloader): #dataloader separates X,y when iterating over it\n",
    "        X, y = X.to(device), y.to(device) \n",
    "        # imp. if model is on a device, data must be on same device to train or evaluate.\n",
    "        # Only save to device if being used. Dont save anything unnecessary\n",
    "\n",
    "        \n",
    "        pred = model(X) # equivalent to model.forward(X)\n",
    "        loss = loss_fn(pred, y)\n",
    "        # Things that are happening -->\n",
    "        # \n",
    "        \n",
    "        \n",
    "        \n",
    "        # Backpropagation <VERY IMPORTANT>\n",
    "        loss.backward() \n",
    "        # backward is a property of tensor\n",
    "        # what does backward do? #accumulation of gradients\n",
    "        \n",
    "        \n",
    "        optimizer.step() \n",
    "        optimizer.zero_grad()\n",
    "\n",
    "        if batch % 100 == 0:\n",
    "            loss, current = loss.item(), (batch + 1) * len(X)\n",
    "            print(f\"loss: {loss:>7f}  [{current:>5d}/{size:>5d}]\")\n",
    "    return loss"
   ]
  },
  {
   "cell_type": "code",
   "execution_count": 8,
   "id": "fdf0c141",
   "metadata": {},
   "outputs": [],
   "source": [
    "def test(dataloader, model, loss_fn):\n",
    "    size = len(dataloader.dataset)\n",
    "    num_batches = len(dataloader)\n",
    "    model.eval()\n",
    "    test_loss, correct = 0, 0\n",
    "    with torch.no_grad():\n",
    "        for X, y in dataloader:\n",
    "            X, y = X.to(device), y.to(device)\n",
    "            pred = model(X)\n",
    "            test_loss += loss_fn(pred, y).item()\n",
    "            correct += (pred.argmax(1) == y).type(torch.float).sum().item()\n",
    "    test_loss /= num_batches\n",
    "    correct /= size\n",
    "    print(f\"Test Error: \\n Accuracy: {(100*correct):>0.1f}%, Avg loss: {test_loss:>8f} \\n\")"
   ]
  },
  {
   "cell_type": "code",
   "execution_count": 9,
   "id": "6862bc1c",
   "metadata": {},
   "outputs": [
    {
     "name": "stdout",
     "output_type": "stream",
     "text": [
      "Epoch 1\n",
      "-------------------------------\n",
      "loss: 2.306728  [   64/60000]\n",
      "loss: 2.287720  [ 6464/60000]\n",
      "loss: 2.278190  [12864/60000]\n",
      "loss: 2.266025  [19264/60000]\n",
      "loss: 2.251162  [25664/60000]\n",
      "loss: 2.221402  [32064/60000]\n",
      "loss: 2.230715  [38464/60000]\n",
      "loss: 2.195994  [44864/60000]\n",
      "loss: 2.202322  [51264/60000]\n",
      "loss: 2.155398  [57664/60000]\n",
      "Test Error: \n",
      " Accuracy: 36.8%, Avg loss: 2.156737 \n",
      "\n",
      "Epoch 2\n",
      "-------------------------------\n",
      "loss: 2.170611  [   64/60000]\n",
      "loss: 2.153255  [ 6464/60000]\n",
      "loss: 2.100664  [12864/60000]\n",
      "loss: 2.111635  [19264/60000]\n",
      "loss: 2.067943  [25664/60000]\n",
      "loss: 2.005867  [32064/60000]\n",
      "loss: 2.044993  [38464/60000]\n",
      "loss: 1.963157  [44864/60000]\n",
      "loss: 1.974150  [51264/60000]\n",
      "loss: 1.895306  [57664/60000]\n",
      "Test Error: \n",
      " Accuracy: 54.2%, Avg loss: 1.893672 \n",
      "\n",
      "Epoch 3\n",
      "-------------------------------\n",
      "loss: 1.927311  [   64/60000]\n",
      "loss: 1.888460  [ 6464/60000]\n",
      "loss: 1.778417  [12864/60000]\n",
      "loss: 1.814532  [19264/60000]\n",
      "loss: 1.716070  [25664/60000]\n",
      "loss: 1.668375  [32064/60000]\n",
      "loss: 1.697527  [38464/60000]\n",
      "loss: 1.598708  [44864/60000]\n",
      "loss: 1.623257  [51264/60000]\n",
      "loss: 1.515699  [57664/60000]\n",
      "Test Error: \n",
      " Accuracy: 60.9%, Avg loss: 1.534193 \n",
      "\n",
      "Epoch 4\n",
      "-------------------------------\n",
      "loss: 1.598272  [   64/60000]\n",
      "loss: 1.557486  [ 6464/60000]\n",
      "loss: 1.420336  [12864/60000]\n",
      "loss: 1.482483  [19264/60000]\n",
      "loss: 1.372617  [25664/60000]\n",
      "loss: 1.369435  [32064/60000]\n",
      "loss: 1.384340  [38464/60000]\n",
      "loss: 1.313048  [44864/60000]\n",
      "loss: 1.346650  [51264/60000]\n",
      "loss: 1.236880  [57664/60000]\n",
      "Test Error: \n",
      " Accuracy: 62.6%, Avg loss: 1.270668 \n",
      "\n",
      "Epoch 5\n",
      "-------------------------------\n",
      "loss: 1.346823  [   64/60000]\n",
      "loss: 1.320536  [ 6464/60000]\n",
      "loss: 1.170970  [12864/60000]\n",
      "loss: 1.262865  [19264/60000]\n",
      "loss: 1.142417  [25664/60000]\n",
      "loss: 1.169294  [32064/60000]\n",
      "loss: 1.188463  [38464/60000]\n",
      "loss: 1.131881  [44864/60000]\n",
      "loss: 1.171909  [51264/60000]\n",
      "loss: 1.068798  [57664/60000]\n",
      "Test Error: \n",
      " Accuracy: 64.2%, Avg loss: 1.102955 \n",
      "\n",
      "Done!\n"
     ]
    }
   ],
   "source": [
    "epochs = 5\n",
    "for t in range(epochs):\n",
    "    print(f\"Epoch {t+1}\\n-------------------------------\")\n",
    "    loss = train(train_dataloader, model, loss_fn, optimizer)\n",
    "    test(test_dataloader, model, loss_fn)\n",
    "print(\"Done!\")"
   ]
  },
  {
   "cell_type": "markdown",
   "id": "12c3c146",
   "metadata": {},
   "source": [
    "### Saving and loading Models"
   ]
  },
  {
   "cell_type": "code",
   "execution_count": 10,
   "id": "86dbf233",
   "metadata": {},
   "outputs": [],
   "source": [
    "# torch.save(model.state_dict(), \"model.pth\")\n",
    "# print(\"Saved PyTorch Model State to model.pth\")\n",
    "\n",
    "# model = NeuralNetwork().to(device)\n",
    "# model.load_state_dict(torch.load(\"model.pth\"))"
   ]
  },
  {
   "cell_type": "markdown",
   "id": "e5906c4c",
   "metadata": {},
   "source": [
    "### Evaluation"
   ]
  },
  {
   "cell_type": "code",
   "execution_count": 11,
   "id": "781c15a9",
   "metadata": {},
   "outputs": [
    {
     "name": "stdout",
     "output_type": "stream",
     "text": [
      "Predicted: \"Ankle boot\", Actual: \"Ankle boot\"\n"
     ]
    }
   ],
   "source": [
    "classes = [\n",
    "    \"T-shirt/top\",\n",
    "    \"Trouser\",\n",
    "    \"Pullover\",\n",
    "    \"Dress\",\n",
    "    \"Coat\",\n",
    "    \"Sandal\",\n",
    "    \"Shirt\",\n",
    "    \"Sneaker\",\n",
    "    \"Bag\",\n",
    "    \"Ankle boot\",\n",
    "]\n",
    "\n",
    "model.eval()\n",
    "x, y = test_data[0][0], test_data[0][1]\n",
    "with torch.no_grad():\n",
    "    x = x.to(device)\n",
    "    pred = model(x)\n",
    "    predicted, actual = classes[pred[0].argmax(0)], classes[y]\n",
    "    print(f'Predicted: \"{predicted}\", Actual: \"{actual}\"')"
   ]
  },
  {
   "cell_type": "markdown",
   "id": "ce3da5b1",
   "metadata": {},
   "source": [
    "## 2. Introduction to PyTorch\n",
    "\n",
    "Reference: https://pytorch.org/tutorials/beginner/nlp/pytorch_tutorial.html#creating-tensors"
   ]
  },
  {
   "cell_type": "markdown",
   "id": "af5c6331",
   "metadata": {},
   "source": [
    "### Tensors\n",
    "\n",
    "Stores numbers, does stuff"
   ]
  },
  {
   "cell_type": "code",
   "execution_count": 12,
   "id": "cc7a52fe",
   "metadata": {},
   "outputs": [],
   "source": [
    "# torch.tensor(data) creates a torch.Tensor object with the given data.\n",
    "V_data = [1., 2., 3.]\n",
    "V = torch.tensor(V_data)\n",
    "# print(V)\n",
    "\n",
    "# Creates a matrix\n",
    "M_data = [[1., 2., 3.], [4., 5., 6]]\n",
    "M = torch.tensor(M_data)\n",
    "# print(M)\n",
    "\n",
    "# Create a 3D tensor of size 2x2x2.\n",
    "T_data = [[[1., 2.], [3., 4.]],\n",
    "          [[5., 6.], [7., 8.]]]\n",
    "T = torch.tensor(T_data)\n",
    "# print(T)\n",
    "\n",
    "# # Index into V and get a scalar (0 dimensional tensor)\n",
    "# print(V[0])\n",
    "# # Get a Python number from it\n",
    "# print(V[0].item()) #ONLY APPLICABLE IF SLICE IS SCALAR\n",
    "\n",
    "# # Index into M and get a vector\n",
    "# print(M[0])\n",
    "\n",
    "# # Index into T and get a matrix\n",
    "# print(T[0])"
   ]
  },
  {
   "cell_type": "markdown",
   "id": "24452f3f",
   "metadata": {},
   "source": [
    "**Common Methods**"
   ]
  },
  {
   "cell_type": "code",
   "execution_count": 13,
   "id": "2578d24e",
   "metadata": {},
   "outputs": [],
   "source": [
    "## indexing\n",
    "# # Index into V and get a scalar (0 dimensional tensor)\n",
    "# print(V[0])\n",
    "# # Get a Python number from it\n",
    "# print(V[0].item()) #ONLY APPLICABLE IF SLICE IS SCALAR\n",
    "\n",
    "# # Index into M and get a vector\n",
    "# print(M[0])\n",
    "\n",
    "# # Index into T and get a matrix\n",
    "# print(T[0])\n",
    "\n",
    "#concatenation\n",
    "# By default, it concatenates along the first axis (concatenates rows)\n",
    "x_1 = torch.randn(2, 5)\n",
    "y_1 = torch.randn(3, 5)\n",
    "z_1 = torch.cat([x_1, y_1]) # row-wise concat\n",
    "# z_1 = torch.cat([x_1, y_1], 1) #concatenates columns, wont work this case\n",
    "\n",
    "#reshaping = viewing\n",
    "x = torch.randn(2, 3, 4)\n",
    "# print(x)\n",
    "# print(x.view(2, 12))  # Reshape to 2 rows, 12 columns\n",
    "# # Same as above.  If one of the dimensions is -1, its size can be inferred\n",
    "# print(x.view(2, -1))"
   ]
  },
  {
   "cell_type": "markdown",
   "id": "f31c824b",
   "metadata": {},
   "source": [
    "**Computation Graphs and Automatic Differentiation** \n",
    "\n",
    "1. Consider numpy arrays. They do everything we discussed so far. We can index, reshape, concatenate and do math functions over them.\n",
    "2. But tensors are for ML use, where differentiation like d(tensor)/d(some other tensor) is an expected  requirement.\n",
    "3. This can be done numerically but that is slow and inaccurate.\n",
    "4. But to do them analytically we need to know how tensors are related to each other. eg. tensor = some tensor - third tensor\n",
    "5. To do this we need to know how 'tensor' is related to 'some other tensor'.\n",
    "6. Tensors have a `.requires_grad` prop, which when true, pytorch will keep track of that tensors creation and relations to others using a graph."
   ]
  },
  {
   "cell_type": "code",
   "execution_count": 14,
   "id": "902370af",
   "metadata": {},
   "outputs": [
    {
     "name": "stdout",
     "output_type": "stream",
     "text": [
      "tensor([5., 7., 9.], grad_fn=<AddBackward0>)\n",
      "<AddBackward0 object at 0x1090fda50>\n"
     ]
    }
   ],
   "source": [
    "# Tensor factory methods have a ``requires_grad`` flag\n",
    "x = torch.tensor([1., 2., 3], requires_grad=True)\n",
    "\n",
    "# With requires_grad=True, you can still do all the operations you previously\n",
    "# could\n",
    "y = torch.tensor([4., 5., 6], requires_grad=True)\n",
    "z = x + y\n",
    "print(z)\n",
    "\n",
    "# BUT z knows something extra.\n",
    "print(z.grad_fn) # it kept track of the operation that generated it!\n"
   ]
  },
  {
   "cell_type": "code",
   "execution_count": 16,
   "id": "bd02b1c0",
   "metadata": {},
   "outputs": [
    {
     "name": "stdout",
     "output_type": "stream",
     "text": [
      "tensor([5., 7., 9.])\n",
      "None\n"
     ]
    }
   ],
   "source": [
    "#but\n",
    "x = torch.tensor([1., 2., 3], requires_grad=False)\n",
    "y = torch.tensor([4., 5., 6], requires_grad=False)\n",
    "z = x + y #forward operation, graph will be creaeted now\n",
    "# z.requires_grad = True #does not help, as forward operation already done\n",
    "print(z)\n",
    "\n",
    "# BUT z doesnt know know something extra now.\n",
    "print(z.grad_fn) #Did  it track of the operation that generated it?\n"
   ]
  },
  {
   "cell_type": "markdown",
   "id": "99904d99",
   "metadata": {},
   "source": [
    "**Consider following:**\n",
    "\n",
    "x,y --add--> z --sum-->s\n",
    "\n",
    "1. we know 's' knows how it was made from z, and thus how (how? by recursively traversing the graph) it was made from the terminating leaves - x and y.\n",
    "2. how can we find ds/dx or ds/dy with this knowledge?\n",
    "3. pytorchs autograd engine knows how to calculate partial derivatives from the roots to the nodes from these graphs. <br>\n",
    "eg. x,y --add--> z. Sooo <br>\n",
    "dz/dx = y and dz/dy = x\n",
    "\n",
    "**Computation graph creation --> during forward pass (not a explicit method)**\n",
    "\n",
    "**Gradient calculation --> backward pass (a explicit method)**"
   ]
  },
  {
   "cell_type": "code",
   "execution_count": 153,
   "id": "1d68eda3",
   "metadata": {},
   "outputs": [
    {
     "name": "stdout",
     "output_type": "stream",
     "text": [
      "tensor([1., 1., 1.])\n"
     ]
    }
   ],
   "source": [
    "x = torch.tensor([1., 2., 3], requires_grad=True)\n",
    "y = torch.tensor([4., 5., 6], requires_grad=True)\n",
    "z = x + y\n",
    "s = z.sum()\n",
    "s.backward()# calling .backward() on any variable will run backprop, starting from it.\n",
    "print(x.grad) #[ds/dx1(x1), ds/dx2(x2), ds/dx3(x3)]"
   ]
  },
  {
   "cell_type": "code",
   "execution_count": 154,
   "id": "c07bfc69",
   "metadata": {},
   "outputs": [
    {
     "name": "stdout",
     "output_type": "stream",
     "text": [
      "tensor([2., 4., 6.])\n"
     ]
    }
   ],
   "source": [
    "#ORRR\n",
    "x = torch.tensor([1., 2., 3], requires_grad=True)\n",
    "y = torch.tensor([4., 5., 6], requires_grad=True)\n",
    "z = x**2 + y\n",
    "# z = x**3 + y\n",
    "# z = torch.sin(x) + y\n",
    "s = z.sum()\n",
    "s.backward()# calling .backward() on any variable will run backprop, starting from it.\n",
    "print(x.grad) #[ds/dx1(x1), ds/dx2(x2), ds/dx3(x3)]"
   ]
  },
  {
   "cell_type": "code",
   "execution_count": 155,
   "id": "0e3b111d",
   "metadata": {},
   "outputs": [
    {
     "name": "stdout",
     "output_type": "stream",
     "text": [
      "False False\n",
      "None\n",
      "<AddBackward0 object at 0x7fcbfbcd8eb0>\n",
      "True\n"
     ]
    }
   ],
   "source": [
    "x = torch.randn(2, 2)\n",
    "y = torch.randn(2, 2)\n",
    "# By default, user created Tensors have ``requires_grad=False``\n",
    "print(x.requires_grad, y.requires_grad)\n",
    "z = x + y\n",
    "# So you can't backprop through z\n",
    "print(z.grad_fn)\n",
    "\n",
    "# ``.requires_grad_( ... )`` changes an existing Tensor's ``requires_grad``\n",
    "# flag in-place. The input flag defaults to ``True`` if not given.\n",
    "x = x.requires_grad_()\n",
    "y = y.requires_grad_()\n",
    "\n",
    "#this works too but is avoided in good code, idk y\n",
    "# x.requires_grad = True \n",
    "# y.requires_grad = True\n",
    "# z contains enough information to compute gradients, as we saw above\n",
    "z = x + y\n",
    "print(z.grad_fn)\n",
    "\n",
    "\n",
    "# IMPORTANT\n",
    "# If ANYYY input to an operation has ``requires_grad=True``, so will the output\n",
    "print(z.requires_grad)"
   ]
  },
  {
   "cell_type": "markdown",
   "id": "51e49c8e",
   "metadata": {},
   "source": [
    "**DETACH** "
   ]
  },
  {
   "cell_type": "code",
   "execution_count": 156,
   "id": "4bbe56d2",
   "metadata": {},
   "outputs": [
    {
     "name": "stdout",
     "output_type": "stream",
     "text": [
      "None\n"
     ]
    }
   ],
   "source": [
    "# Now z has the computation history that relates itself to x and y\n",
    "# Can we just take its values, and **detach** it from its history?\n",
    "new_z = z.detach()\n",
    "\n",
    "# ... does new_z have information to backprop to x and y?\n",
    "# NO!\n",
    "print(new_z.grad_fn)\n",
    "# And how could it? ``z.detach()`` returns a tensor that shares the same storage\n",
    "# as ``z``, but with the computation history forgotten. It doesn't know anything\n",
    "# about how it was computed.\n",
    "# In essence, we have broken the Tensor away from its past history"
   ]
  },
  {
   "cell_type": "markdown",
   "id": "983027eb",
   "metadata": {},
   "source": [
    "**NOGRAD**"
   ]
  },
  {
   "cell_type": "code",
   "execution_count": 157,
   "id": "38e886a4",
   "metadata": {},
   "outputs": [
    {
     "name": "stdout",
     "output_type": "stream",
     "text": [
      "True\n",
      "True\n",
      "False\n",
      "False\n"
     ]
    }
   ],
   "source": [
    "print(x.requires_grad)\n",
    "print((x ** 2).requires_grad)\n",
    "\n",
    "with torch.no_grad():\n",
    "    print((x ** 2).requires_grad) # does NOT actually change the requires_grad of x\n",
    "    y = x**2 #anything defined here does not have required_grad, why? because x does not have req_grad true here\n",
    "\n",
    "print(y.requires_grad)"
   ]
  },
  {
   "cell_type": "markdown",
   "id": "dd648620",
   "metadata": {},
   "source": [
    "# 3. Overview of PyTorch Autograd Engine\n",
    "\n",
    "https://pytorch.org/blog/overview-of-pytorch-autograd-engine/"
   ]
  },
  {
   "cell_type": "markdown",
   "id": "94a2a268",
   "metadata": {},
   "source": [
    "1. In previous chapter we understood, why. here we go over basics of how autograd actually works with the computational graph\n",
    "2. btw this process of making a graph in forward pass and only generating gradients of each var in reverse pass is called reverse-mode autograd\n",
    "3. Fundamental core idea of autograd --> Chain rule and recursion"
   ]
  },
  {
   "attachments": {
    "Screenshot%202023-07-05%20at%201.41.03%20PM.png": {
     "image/png": "[encoded data removed]"
    }
   },
   "cell_type": "markdown",
   "id": "ce4996b9",
   "metadata": {},
   "source": [
    "Consider the function:\n",
    "\n",
    "f(x,y) = log(x.y)\n",
    "\n",
    "Broken down into a forward graph as\n",
    "\n",
    "**Tensors:** `x,y` --`mult`-->`v` --`log`-->`w`\n",
    "\n",
    "`w` is the root node. So every `t` with `.requires_grad=True` in the graph of `w` will have its `.grad` accumulated with `dw/dx` if we call `w.backward()`\n",
    "\n",
    "\n",
    "The backward graph looks like:\n",
    "\n",
    "**Grads:** `dw/dx, dw/dy` <-- `mult derv` -- `dw/dv` <--`log derv`--`dw/dw=1`\n",
    "\n",
    "\n",
    "**Note:** In the picture below z is a dummy variable that allows storage of 1 as the gradient of the root node w and the subsequent application of chain rule\n",
    "\n",
    "![Screenshot%202023-07-05%20at%201.41.03%20PM.png](attachment:Screenshot%202023-07-05%20at%201.41.03%20PM.png)"
   ]
  },
  {
   "cell_type": "markdown",
   "id": "5fe16fef",
   "metadata": {},
   "source": [
    "**JVP:** The model actually only calculates the jacobian vector product as the parameters are vectors at each level of the pass. \n",
    "\n",
    "Consider `x1,x2` as inputs to function `f--> y1,y2`, which is input to `g-->y`, such that `y=g(f(x1,x2))`.\n",
    "\n",
    "The `(Jacobian of y wrt x1,x2) = (Jacobian of f wrt x1,x2)^T(Jacobian of\n",
    "g wrt y1,y2)`\n",
    "\n",
    "\n",
    "It is important to note that torch does not actually generate the Jacobian but only the Jacobian vector product as it is more efficient.\n",
    "\n",
    "**NOTE: Link for jvp derivateves --** https://github.com/pytorch/pytorch/blob/master/tools/autograd/derivatives.yaml\n",
    "\n",
    "\n",
    "For examaple `dz/dv` in the above example is `dlogv/dv = 1/v` and thus `gradient*=1/v` is stored in `v.grad`, in this particular case `gradient=1` before being multiplied."
   ]
  },
  {
   "cell_type": "markdown",
   "id": "d928c9cf",
   "metadata": {},
   "source": [
    "# 4. How computational graphs are constructed in PyTorch\n",
    "\n",
    "https://pytorch.org/blog/computational-graphs-constructed-in-pytorch/"
   ]
  },
  {
   "cell_type": "markdown",
   "id": "cecb94d6",
   "metadata": {},
   "source": [
    "1. https://github.com/pytorch/pytorch/tree/release/1.9/tools/autograd\n",
    "\n",
    "2. https://github.com/pytorch/pytorch/tree/release/1.9/torch/autograd\n",
    "\n",
    "3. https://github.com/pytorch/pytorch/tree/release/1.9/torch/csrc/autograd\n",
    "\n",
    "above are three main modules that deal with graphs and autograd. 1. is for the base level functions, 2. allows users to write their own diff functions and compute jvps and 3. is for graph related objects"
   ]
  },
  {
   "cell_type": "markdown",
   "id": "8fbc9935",
   "metadata": {},
   "source": [
    "# 5. Understanding Computational Graphs\n",
    "\n",
    "https://jdhao.github.io/2017/11/12/pytorch-computation-graph/\n"
   ]
  },
  {
   "cell_type": "markdown",
   "id": "c887d0b0",
   "metadata": {},
   "source": [
    "The fundamental object of PyTorch is the computational graph. The computational graph is generated during any torch operation over torch object, Tensor. \n",
    "\n",
    "In the backward pass the graph is used to calculate gradients for the tensors in the direction of the root node quantity.\n",
    "\n",
    "It is IMPORTANT to note that, in a usual neural net paradigm, where forward and backward passes occur in each iteration. **The graph is created (forward) and destroyed (backward) in each iteration unless specified otherwise**."
   ]
  },
  {
   "cell_type": "markdown",
   "id": "9b20061f",
   "metadata": {},
   "source": [
    "Consider the operations:\n",
    "\n",
    "\n",
    "`a`--`polynomial`-->`b`--`mult`-->`c`--`mean,sum`-->`d`,`e`"
   ]
  },
  {
   "cell_type": "code",
   "execution_count": 158,
   "id": "141a2ac4",
   "metadata": {},
   "outputs": [],
   "source": [
    "from torch.autograd import Variable\n",
    "a = Variable(torch.rand(1, 4), requires_grad=True) #variable is a object around tensor, w all tensor properties used usually for non-constant/variables\n",
    "b = a**2\n",
    "c = b*2\n",
    "d = c.mean()\n",
    "e = c.sum()"
   ]
  },
  {
   "cell_type": "markdown",
   "id": "e8b158a5",
   "metadata": {},
   "source": [
    "Now we lets do backward on both d and e"
   ]
  },
  {
   "cell_type": "code",
   "execution_count": 159,
   "id": "2119b613",
   "metadata": {},
   "outputs": [
    {
     "name": "stdout",
     "output_type": "stream",
     "text": [
      "RuntimeError: Trying to backward through the graph a second time (or directly access saved tensors after they have already been freed). Saved intermediate values of the graph are freed when you call .backward() or autograd.grad(). Specify retain_graph=True if you need to backward through the graph a second time or if you need to access saved tensors after calling backward.\n"
     ]
    }
   ],
   "source": [
    "# d.backward()\n",
    "# e.backward()\n",
    "# you will get this error\n",
    "print('RuntimeError: Trying to backward through the graph a second time (or directly access saved tensors after they have already been freed). Saved intermediate values of the graph are freed when you call .backward() or autograd.grad(). Specify retain_graph=True if you need to backward through the graph a second time or if you need to access saved tensors after calling backward.')"
   ]
  },
  {
   "cell_type": "markdown",
   "id": "c026516e",
   "metadata": {},
   "source": [
    "A real use case that you want to backward through the graph for more than once is multi-task learning where you have multiple losses at different layers. Suppose that you have 2 losses: `loss1` and `loss2` and they reside in different layers. In order to back-prop the gradient of `loss1` and `loss2` w.r.t to the learnable weight of your network independently. You have to use `retain_graph=True` in `backward()` method in the first back-propagated loss."
   ]
  },
  {
   "cell_type": "code",
   "execution_count": 160,
   "id": "894de919",
   "metadata": {},
   "outputs": [],
   "source": [
    "d.backward(retain_graph=True)\n",
    "e.backward(retain_graph=True) "
   ]
  },
  {
   "cell_type": "markdown",
   "id": "7b37fe27",
   "metadata": {},
   "source": [
    "# 6. Understanding Autograd: 5 Pytorch tensor functions\n",
    "\n",
    "https://medium.com/@namanphy/understanding-autograd-5-pytorch-tensor-functions-8f47c27dc38"
   ]
  },
  {
   "cell_type": "markdown",
   "id": "338aedec",
   "metadata": {},
   "source": [
    "Computation graph is nothing but a simple map of references of variables(or tensors) and operators(or functions) generated for a set of algebraic equations, through which autograd can traverse and trace back (to leaves) to calculate gradients.\n",
    "\n",
    "**1. Tensor Properties:**\n",
    " - `.requires_grad` : if true, the tensor will be tracked during operations related to it. Important to note that IF one of the input tensors has requires_grad as true, the resulting tensor will also automatically have it to be true.\n",
    " - `.grad_fn` : Grad function holds reference to the immediate function that created the tensor. Generated during forward pass.\n",
    " - `.is_leaf` : (Important), Any tensor with `.requires_grad = False` will have this property as `True`. If `.requires_grad = True` then this property will be `True` if the tensor is user created and not a result of a operation OR more thoroughly if `.grad_fn=None`. **In a neural network context - inputs, weights, biases are leaves.** They are not generated through a process. The specific activations are not leaves. Inputs will usually have requires_grad as `false` and thus grad wont be calculated. Params will have it `true` and thus will be calculated and accumulated.\n",
    " \n",
    " \n",
    "Leaf tensors are tensors that stop the flow of gradients on the backward pass. They can store gradients themselves. But they will not allow gradients to flow back through them to other tensors."
   ]
  },
  {
   "cell_type": "code",
   "execution_count": 161,
   "id": "1225eee8",
   "metadata": {},
   "outputs": [
    {
     "name": "stdout",
     "output_type": "stream",
     "text": [
      "True - because user generated\n",
      "False - because .to(device) is a operation (casting) done on the tensor\n",
      "False - because an operation is done\n",
      "True - because no gradients, require_grad = False\n",
      "True - the operation to() was done on a non-grad tensor which then was set to required grad, which is not operation\n",
      "True - no operations\n"
     ]
    }
   ],
   "source": [
    "#is_leaf examples\n",
    "\n",
    "a = torch.rand(10, requires_grad=True)\n",
    "print(a.is_leaf, '- because user generated')\n",
    "\n",
    "b = torch.rand(10, requires_grad=True).to(device)\n",
    "print(b.is_leaf, '- because .to(device) is a operation (casting) done on the tensor')\n",
    "\n",
    "c = torch.rand(10, requires_grad=True) + 2\n",
    "print(c.is_leaf, '- because an operation is done')\n",
    "\n",
    "d = torch.rand(10).to(device)\n",
    "print(d.is_leaf, '- because no gradients, require_grad = False')\n",
    "\n",
    "e = torch.rand(10).to(device).requires_grad_()\n",
    "print(e.is_leaf, '- the operation to() was done on a non-grad tensor which then was set to required grad, which is not operation')\n",
    "\n",
    "f = torch.rand(10, requires_grad=True, device=device)\n",
    "print(f.is_leaf, '- no operations')"
   ]
  },
  {
   "cell_type": "markdown",
   "id": "11c30924",
   "metadata": {},
   "source": [
    "**2. backward():**\n",
    "\n",
    "- Generates gradient of current tensors w.r.t leaves of its graph.\n",
    "- `backward(gradient=None, retain_graph=None, create_graph=False)`. Backward takes the incoming gradient in `gradient`, calculates the local gradient, multiplies them and pushes them towards leaves by traversing the graph backwards.\n",
    "\n",
    "Consider the \n",
    "\n",
    "a,x,b --> y = a.x --> z = y + b"
   ]
  },
  {
   "cell_type": "code",
   "execution_count": 162,
   "id": "54326c6c",
   "metadata": {},
   "outputs": [
    {
     "name": "stdout",
     "output_type": "stream",
     "text": [
      "Tensor x (leaf)\n",
      "grad funtion = None\n",
      "\n",
      "Tensor a (leaf)\n",
      "grad funtion = None\n",
      "\n",
      "Tensor b (leaf)\n",
      "grad funtion = None\n",
      "\n",
      "Tensor y\n",
      "grad funtion = <MulBackward0 object at 0x7fcbfbcfd990>\n",
      "\n",
      "Tensor z\n",
      "grad funtion = <AddBackward0 object at 0x7fcbfbcfd990>\n",
      "\n",
      "\n",
      "dz/dx = a: tensor(4.)\n",
      "dz/da = x: tensor(3.)\n",
      "dz/db = 1: tensor(1.)\n"
     ]
    }
   ],
   "source": [
    "x = torch.tensor(3., requires_grad=True)\n",
    "a = torch.tensor(4., requires_grad=True)\n",
    "b = torch.tensor(5., requires_grad=True)\n",
    "y = a * x\n",
    "z = y + b\n",
    "z.backward()\n",
    "\n",
    "print(\"Tensor x (leaf)\")\n",
    "print(f'grad funtion = {x.grad_fn}')\n",
    "\n",
    "print(\"\\nTensor a (leaf)\")\n",
    "print(f'grad funtion = {a.grad_fn}')\n",
    "\n",
    "print(\"\\nTensor b (leaf)\")\n",
    "print(f'grad funtion = {b.grad_fn}')\n",
    "\n",
    "print(\"\\nTensor y\")\n",
    "print(f'grad funtion = {y.grad_fn}')\n",
    "\n",
    "print(\"\\nTensor z\")\n",
    "print(f'grad funtion = {z.grad_fn}')\n",
    "print(\"\\n\")\n",
    "print('dz/dx = a:', x.grad) \n",
    "print('dz/da = x:', a.grad) \n",
    "print('dz/db = 1:', b.grad) "
   ]
  },
  {
   "cell_type": "markdown",
   "id": "c0e83e87",
   "metadata": {},
   "source": [
    "**Calling backward on a non-scaler tensor?**\n",
    "\n",
    "will get you a `Runtime error: grad can be implicitly created only for scalar outputs` error. This is because the default incoming gradient shape (1) does not match the shape of the shape of whatever tensor you are diffrentiating. \n",
    "\n",
    "To work around this pass a gradient of required size to the backward method"
   ]
  },
  {
   "cell_type": "code",
   "execution_count": 163,
   "id": "5923986a",
   "metadata": {},
   "outputs": [],
   "source": [
    "x = torch.tensor(3., requires_grad=True)\n",
    "a = torch.tensor([4.,2.], requires_grad=True)\n",
    "z = x + a\n",
    "\n",
    "z.backward(torch.tensor([1.,1.])) # passing a gradient to backward.\n",
    "#anything other than ones will scale the gradients by appropriate amount"
   ]
  },
  {
   "cell_type": "markdown",
   "id": "e30f2d11",
   "metadata": {},
   "source": [
    "**3. retain_grad()**\n",
    "\n",
    "Allows a non-leaf node to store gradient that passes through it during backward pass. Used for troubleshooting. Without it you will not be able to `.grad` for non leaf nodes"
   ]
  },
  {
   "cell_type": "code",
   "execution_count": 164,
   "id": "4ab42f43",
   "metadata": {},
   "outputs": [
    {
     "name": "stdout",
     "output_type": "stream",
     "text": [
      "dw/dx: tensor(16.)\n",
      "dw/da: tensor(12.)\n",
      "dw/db: tensor(4.)\n",
      "dw/dy: tensor(4.)\n",
      "dw/dc: tensor(17.)\n",
      "dw/dd: tensor(1.)\n",
      "dw/dw: tensor(1.)\n"
     ]
    }
   ],
   "source": [
    "x = torch.tensor(3., requires_grad=True)\n",
    "a = torch.tensor(4., requires_grad=True)\n",
    "b = torch.tensor(5., requires_grad=True)\n",
    "\n",
    "y = a * x + b\n",
    "y.retain_grad()\n",
    "\n",
    "c = torch.tensor(4., requires_grad=True)\n",
    "d = torch.tensor(4., requires_grad=True)\n",
    "\n",
    "w = c * y + d\n",
    "w.retain_grad() #try commenting out\n",
    "\n",
    "w.backward()\n",
    "\n",
    "print('dw/dx:', x.grad) \n",
    "print('dw/da:', a.grad) \n",
    "print('dw/db:', b.grad) \n",
    "print('dw/dy:', y.grad)\n",
    "print('dw/dc:', c.grad) \n",
    "print('dw/dd:', d.grad) \n",
    "print('dw/dw:', w.grad)"
   ]
  },
  {
   "cell_type": "markdown",
   "id": "6143c146",
   "metadata": {},
   "source": [
    "**4. register_hook()**\n",
    "\n",
    "`hook(grad) -> Tensor or None`\n",
    "\n",
    "the hook can take the value of grad and can return a new value or perform operations with the value"
   ]
  },
  {
   "cell_type": "code",
   "execution_count": 165,
   "id": "b80d7905",
   "metadata": {},
   "outputs": [
    {
     "name": "stdout",
     "output_type": "stream",
     "text": [
      "tensor([2., 4., 6.])\n"
     ]
    }
   ],
   "source": [
    "# it is useful for playing around with gradients and debugging\n",
    "\n",
    "v = torch.tensor([0., 0., 0.], requires_grad=True) #any tensor\n",
    "hook = v.register_hook(lambda grad: grad * 2)  # double the gradient\n",
    "v.backward(torch.tensor([1., 2., 3.])) #applies hook to grad while passing\n",
    "print(v.grad)\n",
    "hook.remove()"
   ]
  },
  {
   "cell_type": "markdown",
   "id": "b6879dca",
   "metadata": {},
   "source": [
    "**5. detach()**\n",
    "\n",
    "It creates a copy of a tensor that is not a part of the computation graph i.e detaches the Tensor from the graph that created it, making it a leaf.\n"
   ]
  },
  {
   "cell_type": "code",
   "execution_count": 166,
   "id": "cdc90f42",
   "metadata": {},
   "outputs": [
    {
     "name": "stdout",
     "output_type": "stream",
     "text": [
      "Original V : tensor([0., 0., 0.], requires_grad=True)\n",
      "New detached V : tensor([5., 0., 0.])\n",
      "New V : tensor([5., 0., 0.], requires_grad=True)\n"
     ]
    }
   ],
   "source": [
    "print(f'Original V : {v}')\n",
    "new = v.detach()\n",
    "new[0] = 5\n",
    "print(f'New detached V : {new}')\n",
    "print(f'New V : {v}') #still is connected to the original tensor\n",
    "\n",
    "# it is just a leaf-ed version of ur tensor\n"
   ]
  },
  {
   "cell_type": "markdown",
   "id": "1109163f",
   "metadata": {},
   "source": [
    "# 7. Miscellaneous"
   ]
  },
  {
   "cell_type": "markdown",
   "id": "3262a8de",
   "metadata": {},
   "source": [
    "**Application of `retain_graph=True` in adversarial scenario:**<br>\n",
    "https://stackoverflow.com/questions/62133737/how-does-pytorchs-loss-backward-work-when-retain-graph-true-is-specified\n",
    "\n",
    "https://stackoverflow.com/questions/46774641/what-does-the-parameter-retain-graph-mean-in-the-variables-backward-method\n",
    "\n",
    "Why retain_graph is important in scenarios where two networks have a connected graph - because the first pass will clear the graph and make it not possible to pass the gradients through the second loss, without using `retain_graph`.\n"
   ]
  },
  {
   "cell_type": "code",
   "execution_count": null,
   "id": "1d783866",
   "metadata": {},
   "outputs": [],
   "source": []
  }
 ],
 "metadata": {
  "kernelspec": {
   "display_name": "Python 3 (ipykernel)",
   "language": "python",
   "name": "python3"
  },
  "language_info": {
   "codemirror_mode": {
    "name": "ipython",
    "version": 3
   },
   "file_extension": ".py",
   "mimetype": "text/x-python",
   "name": "python",
   "nbconvert_exporter": "python",
   "pygments_lexer": "ipython3",
   "version": "3.11.5"
  }
 },
 "nbformat": 4,
 "nbformat_minor": 5
}
